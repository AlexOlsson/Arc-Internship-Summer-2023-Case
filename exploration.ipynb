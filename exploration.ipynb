{
 "cells": [
  {
   "cell_type": "markdown",
   "source": [
    "# **ARC Technical assessment**"
   ],
   "metadata": {
    "collapsed": false
   },
   "outputs": [],
   "execution_count": 3
  },
  {
   "cell_type": "markdown",
   "source": [
    "**GOAL:** Evaluate if the data is enough to perform analyses examining customers attributes and transactions to drive business decisions. Formulate a recommendation to the client based on the findings.\n",
    "Recommendation to client: Data looks OK and there are possibilities for analysis."
   ],
   "metadata": {
    "collapsed": false
   }
  },
  {
   "cell_type": "code",
   "execution_count": 463,
   "outputs": [],
   "source": [
    "# _____ Libraries _____\n",
    "import pandas as pd\n",
    "import json"
   ],
   "metadata": {
    "collapsed": false
   }
  },
  {
   "cell_type": "markdown",
   "source": [
    "### **<span style=\"color:purple\">LOAD RAW DATA SETS</span>**\n",
    "Load in the datasets and store them in pandas dataframes.\n"
   ],
   "metadata": {
    "collapsed": false
   }
  },
  {
   "cell_type": "code",
   "execution_count": 464,
   "outputs": [],
   "source": [
    "df_demographics = pd.read_csv('demographics.csv')\n",
    "df_referral = pd.read_csv('referral.csv')\n",
    "df_transactions = pd.read_csv('transactions.csv')"
   ],
   "metadata": {
    "collapsed": false
   }
  },
  {
   "cell_type": "code",
   "execution_count": 465,
   "outputs": [
    {
     "data": {
      "text/plain": "      BASIC  PRO  MAX\n2020     33   65   99\n2021     43   75  109\n2022     53   85  119",
      "text/html": "<div>\n<style scoped>\n    .dataframe tbody tr th:only-of-type {\n        vertical-align: middle;\n    }\n\n    .dataframe tbody tr th {\n        vertical-align: top;\n    }\n\n    .dataframe thead th {\n        text-align: right;\n    }\n</style>\n<table border=\"1\" class=\"dataframe\">\n  <thead>\n    <tr style=\"text-align: right;\">\n      <th></th>\n      <th>BASIC</th>\n      <th>PRO</th>\n      <th>MAX</th>\n    </tr>\n  </thead>\n  <tbody>\n    <tr>\n      <th>2020</th>\n      <td>33</td>\n      <td>65</td>\n      <td>99</td>\n    </tr>\n    <tr>\n      <th>2021</th>\n      <td>43</td>\n      <td>75</td>\n      <td>109</td>\n    </tr>\n    <tr>\n      <th>2022</th>\n      <td>53</td>\n      <td>85</td>\n      <td>119</td>\n    </tr>\n  </tbody>\n</table>\n</div>"
     },
     "execution_count": 465,
     "metadata": {},
     "output_type": "execute_result"
    }
   ],
   "source": [
    "# Load the json file and convert it to a dataframe\n",
    "with open('subscription_prices.json') as f:\n",
    "    subscription_prices = json.load(f)\n",
    "df_subscription_prices = pd.DataFrame(subscription_prices)\n",
    "# df_subscription_prices['YEAR'] = df_subscription_prices.index\n",
    "# df_subscription_prices = df_subscription_prices.reset_index(drop=True)\n",
    "df_subscription_prices"
   ],
   "metadata": {
    "collapsed": false
   }
  },
  {
   "cell_type": "markdown",
   "source": [
    "## **<span style=\"color:purple\">DATASET 1: *Demographics*</span>**"
   ],
   "metadata": {
    "collapsed": false
   }
  },
  {
   "cell_type": "code",
   "execution_count": 466,
   "outputs": [
    {
     "name": "stdout",
     "output_type": "stream",
     "text": [
      "<class 'pandas.core.frame.DataFrame'>\n",
      "RangeIndex: 10366 entries, 0 to 10365\n",
      "Data columns (total 4 columns):\n",
      " #   Column            Non-Null Count  Dtype \n",
      "---  ------            --------------  ----- \n",
      " 0   cust_id           10366 non-null  object\n",
      " 1   customer_gender   10366 non-null  object\n",
      " 2   age_group         10366 non-null  object\n",
      " 3   customer_country  10366 non-null  object\n",
      "dtypes: object(4)\n",
      "memory usage: 324.1+ KB\n",
      "None\n"
     ]
    },
    {
     "data": {
      "text/plain": "       cust_id customer_gender age_group customer_country\ncount    10366           10366     10366            10366\nunique   10366               5         5                6\ntop     1_cust           Other     18-24           Sweden\nfreq         1            4460      2536             4061",
      "text/html": "<div>\n<style scoped>\n    .dataframe tbody tr th:only-of-type {\n        vertical-align: middle;\n    }\n\n    .dataframe tbody tr th {\n        vertical-align: top;\n    }\n\n    .dataframe thead th {\n        text-align: right;\n    }\n</style>\n<table border=\"1\" class=\"dataframe\">\n  <thead>\n    <tr style=\"text-align: right;\">\n      <th></th>\n      <th>cust_id</th>\n      <th>customer_gender</th>\n      <th>age_group</th>\n      <th>customer_country</th>\n    </tr>\n  </thead>\n  <tbody>\n    <tr>\n      <th>count</th>\n      <td>10366</td>\n      <td>10366</td>\n      <td>10366</td>\n      <td>10366</td>\n    </tr>\n    <tr>\n      <th>unique</th>\n      <td>10366</td>\n      <td>5</td>\n      <td>5</td>\n      <td>6</td>\n    </tr>\n    <tr>\n      <th>top</th>\n      <td>1_cust</td>\n      <td>Other</td>\n      <td>18-24</td>\n      <td>Sweden</td>\n    </tr>\n    <tr>\n      <th>freq</th>\n      <td>1</td>\n      <td>4460</td>\n      <td>2536</td>\n      <td>4061</td>\n    </tr>\n  </tbody>\n</table>\n</div>"
     },
     "execution_count": 466,
     "metadata": {},
     "output_type": "execute_result"
    }
   ],
   "source": [
    "# Number of features\n",
    "print(df_demographics.info())\n",
    "# Number of unique values for each feature\n",
    "df_demographics.describe(include='all')"
   ],
   "metadata": {
    "collapsed": false
   }
  },
  {
   "cell_type": "code",
   "execution_count": 467,
   "outputs": [
    {
     "data": {
      "text/plain": "  cust_id customer_gender age_group customer_country\n0  1_cust            Male     35-44          Denmark\n1  2_cust           Other     18-24          Denmark\n2  3_cust           Other     25-34           Norway\n3       4            Male     18-24           Sweden\n4  5_cust           Other     35-44           Sweden\n5  6_cust           Other     55-65           Sweden\n6       7           Other     25-34           Sweden\n7  8_cust           Other     45-54           Sweden\n8  9_cust          Female     25-34           Sweden\n9      10           Other     25-34          Finland",
      "text/html": "<div>\n<style scoped>\n    .dataframe tbody tr th:only-of-type {\n        vertical-align: middle;\n    }\n\n    .dataframe tbody tr th {\n        vertical-align: top;\n    }\n\n    .dataframe thead th {\n        text-align: right;\n    }\n</style>\n<table border=\"1\" class=\"dataframe\">\n  <thead>\n    <tr style=\"text-align: right;\">\n      <th></th>\n      <th>cust_id</th>\n      <th>customer_gender</th>\n      <th>age_group</th>\n      <th>customer_country</th>\n    </tr>\n  </thead>\n  <tbody>\n    <tr>\n      <th>0</th>\n      <td>1_cust</td>\n      <td>Male</td>\n      <td>35-44</td>\n      <td>Denmark</td>\n    </tr>\n    <tr>\n      <th>1</th>\n      <td>2_cust</td>\n      <td>Other</td>\n      <td>18-24</td>\n      <td>Denmark</td>\n    </tr>\n    <tr>\n      <th>2</th>\n      <td>3_cust</td>\n      <td>Other</td>\n      <td>25-34</td>\n      <td>Norway</td>\n    </tr>\n    <tr>\n      <th>3</th>\n      <td>4</td>\n      <td>Male</td>\n      <td>18-24</td>\n      <td>Sweden</td>\n    </tr>\n    <tr>\n      <th>4</th>\n      <td>5_cust</td>\n      <td>Other</td>\n      <td>35-44</td>\n      <td>Sweden</td>\n    </tr>\n    <tr>\n      <th>5</th>\n      <td>6_cust</td>\n      <td>Other</td>\n      <td>55-65</td>\n      <td>Sweden</td>\n    </tr>\n    <tr>\n      <th>6</th>\n      <td>7</td>\n      <td>Other</td>\n      <td>25-34</td>\n      <td>Sweden</td>\n    </tr>\n    <tr>\n      <th>7</th>\n      <td>8_cust</td>\n      <td>Other</td>\n      <td>45-54</td>\n      <td>Sweden</td>\n    </tr>\n    <tr>\n      <th>8</th>\n      <td>9_cust</td>\n      <td>Female</td>\n      <td>25-34</td>\n      <td>Sweden</td>\n    </tr>\n    <tr>\n      <th>9</th>\n      <td>10</td>\n      <td>Other</td>\n      <td>25-34</td>\n      <td>Finland</td>\n    </tr>\n  </tbody>\n</table>\n</div>"
     },
     "execution_count": 467,
     "metadata": {},
     "output_type": "execute_result"
    }
   ],
   "source": [
    "# Preview the first 10 rows of the dataframe\n",
    "df_demographics.head(10)"
   ],
   "metadata": {
    "collapsed": false
   }
  },
  {
   "cell_type": "code",
   "execution_count": 468,
   "outputs": [
    {
     "data": {
      "text/plain": "cust_id             0\ncustomer_gender     0\nage_group           0\ncustomer_country    0\ndtype: int64"
     },
     "execution_count": 468,
     "metadata": {},
     "output_type": "execute_result"
    }
   ],
   "source": [
    "# Number of nan-values for each feature\n",
    "df_demographics.isna().sum()"
   ],
   "metadata": {
    "collapsed": false
   }
  },
  {
   "cell_type": "markdown",
   "source": [
    "### **<span style=\"color:purple\">Demographics: \"cust_id\"</span>**\n",
    "Some values in the \"cust_id\" column contain \"_cust\" at the end, which is not consistent with the other values in the column. Let's remove these redundant \"cust_id\"."
   ],
   "metadata": {
    "collapsed": false
   }
  },
  {
   "cell_type": "code",
   "execution_count": 469,
   "outputs": [
    {
     "data": {
      "text/plain": "  cust_id customer_gender age_group customer_country\n0       1            Male     35-44          Denmark\n1       2           Other     18-24          Denmark\n2       3           Other     25-34           Norway\n3       4            Male     18-24           Sweden\n4       5           Other     35-44           Sweden\n5       6           Other     55-65           Sweden\n6       7           Other     25-34           Sweden\n7       8           Other     45-54           Sweden\n8       9          Female     25-34           Sweden\n9      10           Other     25-34          Finland",
      "text/html": "<div>\n<style scoped>\n    .dataframe tbody tr th:only-of-type {\n        vertical-align: middle;\n    }\n\n    .dataframe tbody tr th {\n        vertical-align: top;\n    }\n\n    .dataframe thead th {\n        text-align: right;\n    }\n</style>\n<table border=\"1\" class=\"dataframe\">\n  <thead>\n    <tr style=\"text-align: right;\">\n      <th></th>\n      <th>cust_id</th>\n      <th>customer_gender</th>\n      <th>age_group</th>\n      <th>customer_country</th>\n    </tr>\n  </thead>\n  <tbody>\n    <tr>\n      <th>0</th>\n      <td>1</td>\n      <td>Male</td>\n      <td>35-44</td>\n      <td>Denmark</td>\n    </tr>\n    <tr>\n      <th>1</th>\n      <td>2</td>\n      <td>Other</td>\n      <td>18-24</td>\n      <td>Denmark</td>\n    </tr>\n    <tr>\n      <th>2</th>\n      <td>3</td>\n      <td>Other</td>\n      <td>25-34</td>\n      <td>Norway</td>\n    </tr>\n    <tr>\n      <th>3</th>\n      <td>4</td>\n      <td>Male</td>\n      <td>18-24</td>\n      <td>Sweden</td>\n    </tr>\n    <tr>\n      <th>4</th>\n      <td>5</td>\n      <td>Other</td>\n      <td>35-44</td>\n      <td>Sweden</td>\n    </tr>\n    <tr>\n      <th>5</th>\n      <td>6</td>\n      <td>Other</td>\n      <td>55-65</td>\n      <td>Sweden</td>\n    </tr>\n    <tr>\n      <th>6</th>\n      <td>7</td>\n      <td>Other</td>\n      <td>25-34</td>\n      <td>Sweden</td>\n    </tr>\n    <tr>\n      <th>7</th>\n      <td>8</td>\n      <td>Other</td>\n      <td>45-54</td>\n      <td>Sweden</td>\n    </tr>\n    <tr>\n      <th>8</th>\n      <td>9</td>\n      <td>Female</td>\n      <td>25-34</td>\n      <td>Sweden</td>\n    </tr>\n    <tr>\n      <th>9</th>\n      <td>10</td>\n      <td>Other</td>\n      <td>25-34</td>\n      <td>Finland</td>\n    </tr>\n  </tbody>\n</table>\n</div>"
     },
     "execution_count": 469,
     "metadata": {},
     "output_type": "execute_result"
    }
   ],
   "source": [
    "# Remove \"_cust\" from the \"cust_id\" column\n",
    "df_demographics['cust_id'] = df_demographics['cust_id'].str.replace('_cust', '')\n",
    "\n",
    "# Preview the first 10 rows of the dataframe to check if the changes were made\n",
    "df_demographics.head(10)"
   ],
   "metadata": {
    "collapsed": false
   }
  },
  {
   "cell_type": "markdown",
   "source": [
    "Check if there are any duplicates in the \"cust_id\" column. Presumably, there should be none as each customer should have a unique ID."
   ],
   "metadata": {
    "collapsed": false
   }
  },
  {
   "cell_type": "code",
   "execution_count": 470,
   "outputs": [
    {
     "name": "stdout",
     "output_type": "stream",
     "text": [
      "Are there any duplicates in the \"cust_id\" column? Answer: False\n"
     ]
    }
   ],
   "source": [
    "print('Are there any duplicates in the \"cust_id\" column? Answer:', df_demographics['cust_id'].duplicated().any())"
   ],
   "metadata": {
    "collapsed": false
   }
  },
  {
   "cell_type": "code",
   "execution_count": 470,
   "outputs": [],
   "source": [],
   "metadata": {
    "collapsed": false
   }
  },
  {
   "cell_type": "markdown",
   "source": [
    "### **<span style=\"color:purple\">Demographics: \"customer_gender\"</span>**\n",
    "There are 5 different values present in the \"customer_gender\" column while there should be 3: \"Female\", \"Male\", and \"Other\".\n",
    "Let's preview all values."
   ],
   "metadata": {
    "collapsed": false
   }
  },
  {
   "cell_type": "code",
   "execution_count": 471,
   "outputs": [
    {
     "data": {
      "text/plain": "Other     4460\nFemale    3009\nMale      2754\nm           88\nf           55\nName: customer_gender, dtype: int64"
     },
     "execution_count": 471,
     "metadata": {},
     "output_type": "execute_result"
    }
   ],
   "source": [
    "# List all 5 unique values for the column\n",
    "df_demographics.customer_gender.value_counts()"
   ],
   "metadata": {
    "collapsed": false
   }
  },
  {
   "cell_type": "markdown",
   "source": [
    "The \"m\" and \"f\" values are presumably misspellings so let's correct them."
   ],
   "metadata": {
    "collapsed": false
   }
  },
  {
   "cell_type": "code",
   "execution_count": 472,
   "outputs": [],
   "source": [
    "def handle_misspelled_values(df, col, word_spelling_dict):\n",
    "    '''\n",
    "    Loop through datapoints with misspelled values and replace values with the correct spelling.\n",
    "    :param df: dataframe\n",
    "    :param col: column name\n",
    "    :param word_spelling_dict: dictionary with misspelled and correct values\n",
    "    :return: dataframe with corrected values\n",
    "    '''\n",
    "\n",
    "    # Loop over pair of wrong and correct spelled labels\n",
    "    for wrong_spelling, correct_spelling in word_spelling_dict.items():\n",
    "        #print('Wrong spelling: ', wrong_spelling, '| Correct spelling: ', correct_spelling)\n",
    "        index_wrong_spelling = df.index[df[col] == wrong_spelling].tolist() # Get index of wrong spelled values\n",
    "\n",
    "        for index in index_wrong_spelling:\n",
    "            df.loc[index, col] = correct_spelling # Replace wrong spelled values with correct spelling\n",
    "    return df"
   ],
   "metadata": {
    "collapsed": false
   }
  },
  {
   "cell_type": "code",
   "execution_count": 473,
   "outputs": [
    {
     "data": {
      "text/plain": "Other     4460\nFemale    3064\nMale      2842\nName: customer_gender, dtype: int64"
     },
     "execution_count": 473,
     "metadata": {},
     "output_type": "execute_result"
    }
   ],
   "source": [
    "customer_gender_spellings = {'f': 'Female', 'm': 'Male'}\n",
    "full_train_df = handle_misspelled_values(df_demographics, 'customer_gender', customer_gender_spellings)\n",
    "# Check if the misspelled values were corrected\n",
    "df_demographics.customer_gender.value_counts()"
   ],
   "metadata": {
    "collapsed": false
   }
  },
  {
   "cell_type": "markdown",
   "source": [
    "### **<span style=\"color:purple\">Demographics: \"age_group\"</span>**\n"
   ],
   "metadata": {
    "collapsed": false
   }
  },
  {
   "cell_type": "code",
   "execution_count": 474,
   "outputs": [
    {
     "data": {
      "text/plain": "18-24    2536\n25-34    2117\n45-54    1945\n55-65    1892\n35-44    1876\nName: age_group, dtype: int64"
     },
     "execution_count": 474,
     "metadata": {},
     "output_type": "execute_result"
    }
   ],
   "source": [
    "# List all unique values for the column\n",
    "df_demographics.age_group.value_counts()"
   ],
   "metadata": {
    "collapsed": false
   }
  },
  {
   "cell_type": "markdown",
   "source": [
    "Everything looks good here, i.a. no outliers, misspellings, NaN-values etc., so we can move on to the next column."
   ],
   "metadata": {
    "collapsed": false
   }
  },
  {
   "cell_type": "markdown",
   "source": [
    "### **<span style=\"color:purple\">Demographics: \"customer_country\"</span>**"
   ],
   "metadata": {
    "collapsed": false
   }
  },
  {
   "cell_type": "code",
   "execution_count": 475,
   "outputs": [
    {
     "data": {
      "text/plain": "Sweden     4061\nDenmark    2153\nNorway     2025\nFinland    1975\nSverige      83\nNorge        69\nName: customer_country, dtype: int64"
     },
     "execution_count": 475,
     "metadata": {},
     "output_type": "execute_result"
    }
   ],
   "source": [
    "df_demographics.customer_country.value_counts()"
   ],
   "metadata": {
    "collapsed": false
   }
  },
  {
   "cell_type": "markdown",
   "source": [
    "There is a mix of country names in English and in Swedish. Let's convert all country names to English as it is the language used the most throughout the datasets.\n",
    "Let's use the defined function \"def handle_misspelled_values()\" from above to convert the names."
   ],
   "metadata": {
    "collapsed": false
   }
  },
  {
   "cell_type": "code",
   "execution_count": 476,
   "outputs": [
    {
     "data": {
      "text/plain": "Sweden     4144\nDenmark    2153\nNorway     2094\nFinland    1975\nName: customer_country, dtype: int64"
     },
     "execution_count": 476,
     "metadata": {},
     "output_type": "execute_result"
    }
   ],
   "source": [
    "# Create a dictionary with Swedish and English country names\n",
    "country_spellings = {'Sverige': 'Sweden', 'Norge': 'Norway'}\n",
    "handle_misspelled_values(df_demographics, 'customer_country', country_spellings)\n",
    "# Check if the misspelled values were corrected\n",
    "df_demographics.customer_country.value_counts()"
   ],
   "metadata": {
    "collapsed": false
   }
  },
  {
   "cell_type": "markdown",
   "source": [
    "We have now checked and corrected values in the \"demographics\" dataset. Let's move on to the next dataset."
   ],
   "metadata": {
    "collapsed": false
   }
  },
  {
   "cell_type": "markdown",
   "source": [
    "## **<span style=\"color:purple\">DATASET 2: *Transactions*</span>**\n"
   ],
   "metadata": {
    "collapsed": false
   }
  },
  {
   "cell_type": "code",
   "execution_count": 477,
   "outputs": [
    {
     "name": "stdout",
     "output_type": "stream",
     "text": [
      "<class 'pandas.core.frame.DataFrame'>\n",
      "RangeIndex: 19141 entries, 0 to 19140\n",
      "Data columns (total 4 columns):\n",
      " #   Column             Non-Null Count  Dtype \n",
      "---  ------             --------------  ----- \n",
      " 0   cust_id            19141 non-null  int64 \n",
      " 1   transaction_type   19141 non-null  object\n",
      " 2   transaction_date   19141 non-null  object\n",
      " 3   subscription_type  19141 non-null  object\n",
      "dtypes: int64(1), object(3)\n",
      "memory usage: 598.3+ KB\n",
      "None\n"
     ]
    },
    {
     "data": {
      "text/plain": "             cust_id transaction_type transaction_date subscription_type\ncount   19141.000000            19141            19141             19141\nunique           NaN                5               36                 5\ntop              NaN          initial       2022-11-01             BASIC\nfreq             NaN            10366              764              7058\nmean     5179.489003              NaN              NaN               NaN\nstd      2983.089553              NaN              NaN               NaN\nmin         1.000000              NaN              NaN               NaN\n25%      2604.000000              NaN              NaN               NaN\n50%      5154.000000              NaN              NaN               NaN\n75%      7766.000000              NaN              NaN               NaN\nmax     10366.000000              NaN              NaN               NaN",
      "text/html": "<div>\n<style scoped>\n    .dataframe tbody tr th:only-of-type {\n        vertical-align: middle;\n    }\n\n    .dataframe tbody tr th {\n        vertical-align: top;\n    }\n\n    .dataframe thead th {\n        text-align: right;\n    }\n</style>\n<table border=\"1\" class=\"dataframe\">\n  <thead>\n    <tr style=\"text-align: right;\">\n      <th></th>\n      <th>cust_id</th>\n      <th>transaction_type</th>\n      <th>transaction_date</th>\n      <th>subscription_type</th>\n    </tr>\n  </thead>\n  <tbody>\n    <tr>\n      <th>count</th>\n      <td>19141.000000</td>\n      <td>19141</td>\n      <td>19141</td>\n      <td>19141</td>\n    </tr>\n    <tr>\n      <th>unique</th>\n      <td>NaN</td>\n      <td>5</td>\n      <td>36</td>\n      <td>5</td>\n    </tr>\n    <tr>\n      <th>top</th>\n      <td>NaN</td>\n      <td>initial</td>\n      <td>2022-11-01</td>\n      <td>BASIC</td>\n    </tr>\n    <tr>\n      <th>freq</th>\n      <td>NaN</td>\n      <td>10366</td>\n      <td>764</td>\n      <td>7058</td>\n    </tr>\n    <tr>\n      <th>mean</th>\n      <td>5179.489003</td>\n      <td>NaN</td>\n      <td>NaN</td>\n      <td>NaN</td>\n    </tr>\n    <tr>\n      <th>std</th>\n      <td>2983.089553</td>\n      <td>NaN</td>\n      <td>NaN</td>\n      <td>NaN</td>\n    </tr>\n    <tr>\n      <th>min</th>\n      <td>1.000000</td>\n      <td>NaN</td>\n      <td>NaN</td>\n      <td>NaN</td>\n    </tr>\n    <tr>\n      <th>25%</th>\n      <td>2604.000000</td>\n      <td>NaN</td>\n      <td>NaN</td>\n      <td>NaN</td>\n    </tr>\n    <tr>\n      <th>50%</th>\n      <td>5154.000000</td>\n      <td>NaN</td>\n      <td>NaN</td>\n      <td>NaN</td>\n    </tr>\n    <tr>\n      <th>75%</th>\n      <td>7766.000000</td>\n      <td>NaN</td>\n      <td>NaN</td>\n      <td>NaN</td>\n    </tr>\n    <tr>\n      <th>max</th>\n      <td>10366.000000</td>\n      <td>NaN</td>\n      <td>NaN</td>\n      <td>NaN</td>\n    </tr>\n  </tbody>\n</table>\n</div>"
     },
     "execution_count": 477,
     "metadata": {},
     "output_type": "execute_result"
    }
   ],
   "source": [
    "# Number of features\n",
    "print(df_transactions.info())\n",
    "# Number of unique values for each feature\n",
    "df_transactions.describe(include='all')"
   ],
   "metadata": {
    "collapsed": false
   }
  },
  {
   "cell_type": "code",
   "execution_count": 478,
   "outputs": [
    {
     "data": {
      "text/plain": "   cust_id transaction_type transaction_date subscription_type\n0        1          initial       2020-09-01             BASIC\n1        2          initial       2022-03-01             BASIC\n2        3          initial       2020-10-01               MAX\n3        4          initial       2022-05-01               PRO\n4        5          initial       2022-08-01             BASIC\n5        6          initial       2022-06-01               MAX\n6        7          initial       2022-02-01               MAX\n7        8          initial       2021-01-01             BASIC\n8        9          initial       2020-08-01             BASIC\n9       10          initial       2022-09-01               MAX",
      "text/html": "<div>\n<style scoped>\n    .dataframe tbody tr th:only-of-type {\n        vertical-align: middle;\n    }\n\n    .dataframe tbody tr th {\n        vertical-align: top;\n    }\n\n    .dataframe thead th {\n        text-align: right;\n    }\n</style>\n<table border=\"1\" class=\"dataframe\">\n  <thead>\n    <tr style=\"text-align: right;\">\n      <th></th>\n      <th>cust_id</th>\n      <th>transaction_type</th>\n      <th>transaction_date</th>\n      <th>subscription_type</th>\n    </tr>\n  </thead>\n  <tbody>\n    <tr>\n      <th>0</th>\n      <td>1</td>\n      <td>initial</td>\n      <td>2020-09-01</td>\n      <td>BASIC</td>\n    </tr>\n    <tr>\n      <th>1</th>\n      <td>2</td>\n      <td>initial</td>\n      <td>2022-03-01</td>\n      <td>BASIC</td>\n    </tr>\n    <tr>\n      <th>2</th>\n      <td>3</td>\n      <td>initial</td>\n      <td>2020-10-01</td>\n      <td>MAX</td>\n    </tr>\n    <tr>\n      <th>3</th>\n      <td>4</td>\n      <td>initial</td>\n      <td>2022-05-01</td>\n      <td>PRO</td>\n    </tr>\n    <tr>\n      <th>4</th>\n      <td>5</td>\n      <td>initial</td>\n      <td>2022-08-01</td>\n      <td>BASIC</td>\n    </tr>\n    <tr>\n      <th>5</th>\n      <td>6</td>\n      <td>initial</td>\n      <td>2022-06-01</td>\n      <td>MAX</td>\n    </tr>\n    <tr>\n      <th>6</th>\n      <td>7</td>\n      <td>initial</td>\n      <td>2022-02-01</td>\n      <td>MAX</td>\n    </tr>\n    <tr>\n      <th>7</th>\n      <td>8</td>\n      <td>initial</td>\n      <td>2021-01-01</td>\n      <td>BASIC</td>\n    </tr>\n    <tr>\n      <th>8</th>\n      <td>9</td>\n      <td>initial</td>\n      <td>2020-08-01</td>\n      <td>BASIC</td>\n    </tr>\n    <tr>\n      <th>9</th>\n      <td>10</td>\n      <td>initial</td>\n      <td>2022-09-01</td>\n      <td>MAX</td>\n    </tr>\n  </tbody>\n</table>\n</div>"
     },
     "execution_count": 478,
     "metadata": {},
     "output_type": "execute_result"
    }
   ],
   "source": [
    "# Preview the first 10 rows of the dataframe\n",
    "df_transactions.head(10)"
   ],
   "metadata": {
    "collapsed": false
   }
  },
  {
   "cell_type": "code",
   "execution_count": 479,
   "outputs": [
    {
     "data": {
      "text/plain": "cust_id              0\ntransaction_type     0\ntransaction_date     0\nsubscription_type    0\ndtype: int64"
     },
     "execution_count": 479,
     "metadata": {},
     "output_type": "execute_result"
    }
   ],
   "source": [
    "# Number of nan-values for each feature\n",
    "df_transactions.isna().sum()"
   ],
   "metadata": {
    "collapsed": false
   }
  },
  {
   "cell_type": "markdown",
   "source": [
    "### **<span style=\"color:purple\">Transactions: \"cust_id\"</span>**\n",
    "Everything looks good here, i.a. no outliers, misspellings, NaN-values etc., so we can move on to the next column.\n",
    "Duplicates are not a problem here as each customer can have multiple transactions."
   ],
   "metadata": {
    "collapsed": false
   }
  },
  {
   "cell_type": "markdown",
   "source": [
    "### **<span style=\"color:purple\">Transactions: \"transaction_type\"</span>**\n"
   ],
   "metadata": {
    "collapsed": false
   }
  },
  {
   "cell_type": "code",
   "execution_count": 480,
   "outputs": [
    {
     "data": {
      "text/plain": "initial      10366\nUPGRADE       3692\nREDUCTION     2525\nCHURN         2511\n                47\nName: transaction_type, dtype: int64"
     },
     "execution_count": 480,
     "metadata": {},
     "output_type": "execute_result"
    }
   ],
   "source": [
    "# List all unique values for the column\n",
    "df_transactions.transaction_type.value_counts()"
   ],
   "metadata": {
    "collapsed": false
   }
  },
  {
   "cell_type": "code",
   "execution_count": 481,
   "outputs": [],
   "source": [
    "# Convert all values to uppercase\n",
    "df_transactions.transaction_type = df_transactions.transaction_type.str.upper()"
   ],
   "metadata": {
    "collapsed": false
   }
  },
  {
   "cell_type": "markdown",
   "source": [
    "There are 47 datapoints which have an empty string as a value. Let's preview thsese."
   ],
   "metadata": {
    "collapsed": false
   }
  },
  {
   "cell_type": "code",
   "execution_count": 482,
   "outputs": [
    {
     "data": {
      "text/plain": "       cust_id transaction_type transaction_date subscription_type\n10390       95                        2021-06-01               MAX\n10447      262                        2021-04-01               PRO\n10463      301                        2022-11-01               MAX\n10570      596                        2022-10-01               MAX\n10639      786                        2021-08-01               MAX\n10758     1177                        2022-08-01               MAX\n10759     1178                        2021-12-01               MAX\n11185     2332                        2020-12-01               MAX\n11298     2655                        2022-09-01               MAX\n11477     3184                        2022-11-01               MAX\n11618     3550                        2022-08-01               MAX\n11662     3667                        2022-02-01               MAX\n12145     4944                        2020-12-01               MAX\n12187     5028                        2021-07-01               MAX\n12196     5056                        2022-09-01               MAX\n12320     5379                        2021-01-01               MAX\n12394     5572                        2022-05-01               PRO\n12410     5631                        2021-11-01               MAX\n12625     6248                        2022-04-01               MAX\n12702     6489                        2022-10-01               MAX\n12883     6989                        2022-03-01               PRO\n12891     7007                        2021-10-01               MAX\n13060     7451                        2022-11-01               MAX\n13089     7544                        2022-02-01               PRO\n13131     7680                        2022-08-01               MAX\n13133     7683                        2022-04-01               MAX\n13144     7711                        2022-10-01               PRO\n13375     8314                        2022-11-01               MAX\n13515     8729                        2020-11-01               PRO\n13608     9017                        2022-10-01               MAX\n13773     9449                        2020-08-01               MAX\n13828     9604                        2022-06-01               MAX\n14076    10314                        2021-12-01               MAX\n14096       30                        2022-10-01             BASIC\n14698     2486                        2022-04-01             BASIC\n14720     2562                        2021-09-01             BASIC\n14789     2816                        2022-06-01             BASIC\n14790     2817                        2021-08-01             BASIC\n15048     3958                        2021-11-01               PRO\n15179     4471                        2021-05-01               PRO\n15484     5776                        2021-02-01               PRO\n15754     6851                        2022-10-01             BASIC\n15835     7175                        2020-09-01             BASIC\n15949     7642                        2020-11-01               PRO\n16130     8420                        2022-02-01             BASIC\n16269     8900                        2022-11-01             BASIC\n16287     8973                        2020-10-01               PRO",
      "text/html": "<div>\n<style scoped>\n    .dataframe tbody tr th:only-of-type {\n        vertical-align: middle;\n    }\n\n    .dataframe tbody tr th {\n        vertical-align: top;\n    }\n\n    .dataframe thead th {\n        text-align: right;\n    }\n</style>\n<table border=\"1\" class=\"dataframe\">\n  <thead>\n    <tr style=\"text-align: right;\">\n      <th></th>\n      <th>cust_id</th>\n      <th>transaction_type</th>\n      <th>transaction_date</th>\n      <th>subscription_type</th>\n    </tr>\n  </thead>\n  <tbody>\n    <tr>\n      <th>10390</th>\n      <td>95</td>\n      <td></td>\n      <td>2021-06-01</td>\n      <td>MAX</td>\n    </tr>\n    <tr>\n      <th>10447</th>\n      <td>262</td>\n      <td></td>\n      <td>2021-04-01</td>\n      <td>PRO</td>\n    </tr>\n    <tr>\n      <th>10463</th>\n      <td>301</td>\n      <td></td>\n      <td>2022-11-01</td>\n      <td>MAX</td>\n    </tr>\n    <tr>\n      <th>10570</th>\n      <td>596</td>\n      <td></td>\n      <td>2022-10-01</td>\n      <td>MAX</td>\n    </tr>\n    <tr>\n      <th>10639</th>\n      <td>786</td>\n      <td></td>\n      <td>2021-08-01</td>\n      <td>MAX</td>\n    </tr>\n    <tr>\n      <th>10758</th>\n      <td>1177</td>\n      <td></td>\n      <td>2022-08-01</td>\n      <td>MAX</td>\n    </tr>\n    <tr>\n      <th>10759</th>\n      <td>1178</td>\n      <td></td>\n      <td>2021-12-01</td>\n      <td>MAX</td>\n    </tr>\n    <tr>\n      <th>11185</th>\n      <td>2332</td>\n      <td></td>\n      <td>2020-12-01</td>\n      <td>MAX</td>\n    </tr>\n    <tr>\n      <th>11298</th>\n      <td>2655</td>\n      <td></td>\n      <td>2022-09-01</td>\n      <td>MAX</td>\n    </tr>\n    <tr>\n      <th>11477</th>\n      <td>3184</td>\n      <td></td>\n      <td>2022-11-01</td>\n      <td>MAX</td>\n    </tr>\n    <tr>\n      <th>11618</th>\n      <td>3550</td>\n      <td></td>\n      <td>2022-08-01</td>\n      <td>MAX</td>\n    </tr>\n    <tr>\n      <th>11662</th>\n      <td>3667</td>\n      <td></td>\n      <td>2022-02-01</td>\n      <td>MAX</td>\n    </tr>\n    <tr>\n      <th>12145</th>\n      <td>4944</td>\n      <td></td>\n      <td>2020-12-01</td>\n      <td>MAX</td>\n    </tr>\n    <tr>\n      <th>12187</th>\n      <td>5028</td>\n      <td></td>\n      <td>2021-07-01</td>\n      <td>MAX</td>\n    </tr>\n    <tr>\n      <th>12196</th>\n      <td>5056</td>\n      <td></td>\n      <td>2022-09-01</td>\n      <td>MAX</td>\n    </tr>\n    <tr>\n      <th>12320</th>\n      <td>5379</td>\n      <td></td>\n      <td>2021-01-01</td>\n      <td>MAX</td>\n    </tr>\n    <tr>\n      <th>12394</th>\n      <td>5572</td>\n      <td></td>\n      <td>2022-05-01</td>\n      <td>PRO</td>\n    </tr>\n    <tr>\n      <th>12410</th>\n      <td>5631</td>\n      <td></td>\n      <td>2021-11-01</td>\n      <td>MAX</td>\n    </tr>\n    <tr>\n      <th>12625</th>\n      <td>6248</td>\n      <td></td>\n      <td>2022-04-01</td>\n      <td>MAX</td>\n    </tr>\n    <tr>\n      <th>12702</th>\n      <td>6489</td>\n      <td></td>\n      <td>2022-10-01</td>\n      <td>MAX</td>\n    </tr>\n    <tr>\n      <th>12883</th>\n      <td>6989</td>\n      <td></td>\n      <td>2022-03-01</td>\n      <td>PRO</td>\n    </tr>\n    <tr>\n      <th>12891</th>\n      <td>7007</td>\n      <td></td>\n      <td>2021-10-01</td>\n      <td>MAX</td>\n    </tr>\n    <tr>\n      <th>13060</th>\n      <td>7451</td>\n      <td></td>\n      <td>2022-11-01</td>\n      <td>MAX</td>\n    </tr>\n    <tr>\n      <th>13089</th>\n      <td>7544</td>\n      <td></td>\n      <td>2022-02-01</td>\n      <td>PRO</td>\n    </tr>\n    <tr>\n      <th>13131</th>\n      <td>7680</td>\n      <td></td>\n      <td>2022-08-01</td>\n      <td>MAX</td>\n    </tr>\n    <tr>\n      <th>13133</th>\n      <td>7683</td>\n      <td></td>\n      <td>2022-04-01</td>\n      <td>MAX</td>\n    </tr>\n    <tr>\n      <th>13144</th>\n      <td>7711</td>\n      <td></td>\n      <td>2022-10-01</td>\n      <td>PRO</td>\n    </tr>\n    <tr>\n      <th>13375</th>\n      <td>8314</td>\n      <td></td>\n      <td>2022-11-01</td>\n      <td>MAX</td>\n    </tr>\n    <tr>\n      <th>13515</th>\n      <td>8729</td>\n      <td></td>\n      <td>2020-11-01</td>\n      <td>PRO</td>\n    </tr>\n    <tr>\n      <th>13608</th>\n      <td>9017</td>\n      <td></td>\n      <td>2022-10-01</td>\n      <td>MAX</td>\n    </tr>\n    <tr>\n      <th>13773</th>\n      <td>9449</td>\n      <td></td>\n      <td>2020-08-01</td>\n      <td>MAX</td>\n    </tr>\n    <tr>\n      <th>13828</th>\n      <td>9604</td>\n      <td></td>\n      <td>2022-06-01</td>\n      <td>MAX</td>\n    </tr>\n    <tr>\n      <th>14076</th>\n      <td>10314</td>\n      <td></td>\n      <td>2021-12-01</td>\n      <td>MAX</td>\n    </tr>\n    <tr>\n      <th>14096</th>\n      <td>30</td>\n      <td></td>\n      <td>2022-10-01</td>\n      <td>BASIC</td>\n    </tr>\n    <tr>\n      <th>14698</th>\n      <td>2486</td>\n      <td></td>\n      <td>2022-04-01</td>\n      <td>BASIC</td>\n    </tr>\n    <tr>\n      <th>14720</th>\n      <td>2562</td>\n      <td></td>\n      <td>2021-09-01</td>\n      <td>BASIC</td>\n    </tr>\n    <tr>\n      <th>14789</th>\n      <td>2816</td>\n      <td></td>\n      <td>2022-06-01</td>\n      <td>BASIC</td>\n    </tr>\n    <tr>\n      <th>14790</th>\n      <td>2817</td>\n      <td></td>\n      <td>2021-08-01</td>\n      <td>BASIC</td>\n    </tr>\n    <tr>\n      <th>15048</th>\n      <td>3958</td>\n      <td></td>\n      <td>2021-11-01</td>\n      <td>PRO</td>\n    </tr>\n    <tr>\n      <th>15179</th>\n      <td>4471</td>\n      <td></td>\n      <td>2021-05-01</td>\n      <td>PRO</td>\n    </tr>\n    <tr>\n      <th>15484</th>\n      <td>5776</td>\n      <td></td>\n      <td>2021-02-01</td>\n      <td>PRO</td>\n    </tr>\n    <tr>\n      <th>15754</th>\n      <td>6851</td>\n      <td></td>\n      <td>2022-10-01</td>\n      <td>BASIC</td>\n    </tr>\n    <tr>\n      <th>15835</th>\n      <td>7175</td>\n      <td></td>\n      <td>2020-09-01</td>\n      <td>BASIC</td>\n    </tr>\n    <tr>\n      <th>15949</th>\n      <td>7642</td>\n      <td></td>\n      <td>2020-11-01</td>\n      <td>PRO</td>\n    </tr>\n    <tr>\n      <th>16130</th>\n      <td>8420</td>\n      <td></td>\n      <td>2022-02-01</td>\n      <td>BASIC</td>\n    </tr>\n    <tr>\n      <th>16269</th>\n      <td>8900</td>\n      <td></td>\n      <td>2022-11-01</td>\n      <td>BASIC</td>\n    </tr>\n    <tr>\n      <th>16287</th>\n      <td>8973</td>\n      <td></td>\n      <td>2020-10-01</td>\n      <td>PRO</td>\n    </tr>\n  </tbody>\n</table>\n</div>"
     },
     "execution_count": 482,
     "metadata": {},
     "output_type": "execute_result"
    }
   ],
   "source": [
    "# List all rows with \"transaction_type\" = \"\"\n",
    "df_transactions[df_transactions.transaction_type == ' ']"
   ],
   "metadata": {
    "collapsed": false
   }
  },
  {
   "cell_type": "markdown",
   "source": [
    "Let's check if a customer with \"transaction_type\" = \"\", e.g. \"cust_id\" = 95, has any other transactions."
   ],
   "metadata": {
    "collapsed": false
   }
  },
  {
   "cell_type": "code",
   "execution_count": 483,
   "outputs": [
    {
     "data": {
      "text/plain": "       cust_id transaction_type transaction_date subscription_type\n94          95          INITIAL       2020-11-01             BASIC\n10390       95                        2021-06-01               MAX",
      "text/html": "<div>\n<style scoped>\n    .dataframe tbody tr th:only-of-type {\n        vertical-align: middle;\n    }\n\n    .dataframe tbody tr th {\n        vertical-align: top;\n    }\n\n    .dataframe thead th {\n        text-align: right;\n    }\n</style>\n<table border=\"1\" class=\"dataframe\">\n  <thead>\n    <tr style=\"text-align: right;\">\n      <th></th>\n      <th>cust_id</th>\n      <th>transaction_type</th>\n      <th>transaction_date</th>\n      <th>subscription_type</th>\n    </tr>\n  </thead>\n  <tbody>\n    <tr>\n      <th>94</th>\n      <td>95</td>\n      <td>INITIAL</td>\n      <td>2020-11-01</td>\n      <td>BASIC</td>\n    </tr>\n    <tr>\n      <th>10390</th>\n      <td>95</td>\n      <td></td>\n      <td>2021-06-01</td>\n      <td>MAX</td>\n    </tr>\n  </tbody>\n</table>\n</div>"
     },
     "execution_count": 483,
     "metadata": {},
     "output_type": "execute_result"
    }
   ],
   "source": [
    "df_transactions[df_transactions['cust_id'] == 95]"
   ],
   "metadata": {
    "collapsed": false
   }
  },
  {
   "cell_type": "markdown",
   "source": [
    "As we can see, the customer with \"cust_id\" = 95 has other transactions, so we can assume that the value (an empty string) is faulty and should instead be replaced by \"UPGRADE\". My reasoning here is that it is evident that the customer in question signed up for the basic-subscription in 2020, and later upgraded to the max-subscription in 2021 – the \"transaction_type\" should therefore be set to \"UPGRADE\".\n",
    "To fix this, my approach would be to go through all the rows where \"transaction_type\" = \"\" and replace the empty string with either \"UPGRADE\"  or \"REDUCTION\", if the customer appears earlier (time-wise according to the \"transaction_date\" value) in the transactions-dataset. I assume that this would be a relevant approach as that there could be more rows, like \"cust_id\"=95, where the empty string in the \"transaction_type\" column is simply a missing value. Otherwise, the row could simply be a faulty datapoint and thus be dropped.\n",
    "Given the suggested time limit of about 1h for the assignment, I will wait with this as I reckon it would take a while to implement. Thus, I will leave these rows as they are for now."
   ],
   "metadata": {
    "collapsed": false
   }
  },
  {
   "cell_type": "code",
   "execution_count": 483,
   "outputs": [],
   "source": [],
   "metadata": {
    "collapsed": false
   }
  },
  {
   "cell_type": "markdown",
   "source": [
    "### **<span style=\"color:purple\">Transactions: \"transaction_date\"</span>**"
   ],
   "metadata": {
    "collapsed": false
   }
  },
  {
   "cell_type": "code",
   "execution_count": 484,
   "outputs": [
    {
     "data": {
      "text/plain": "2022-11-01    764\n2022-10-01    763\n2022-06-01    755\n2022-08-01    739\n2022-07-01    737\n2022-03-01    707\n2022-04-01    705\n2022-09-01    702\n2022-01-01    658\n2022-02-01    655\n2022-05-01    644\n2021-12-01    639\n2021-11-01    636\n2021-10-01    616\n2021-09-01    580\n2021-08-01    577\n2021-06-01    568\n2021-05-01    567\n2021-07-01    553\n2021-04-01    503\n2021-02-01    495\n2021-03-01    471\n2021-01-01    471\n2020-12-01    461\n2020-11-01    423\n2020-09-01    423\n2020-10-01    399\n2020-07-01    389\n2020-08-01    383\n2020-06-01    339\n2020-04-01    330\n2020-05-01    310\n2020-01-01    307\n2020-02-01    302\n2020-03-01    295\n2022-12-01    275\nName: transaction_date, dtype: int64"
     },
     "execution_count": 484,
     "metadata": {},
     "output_type": "execute_result"
    }
   ],
   "source": [
    "# List all unique values for the column sorted by descending order, i.e. most recent first\n",
    "df_transactions.transaction_date.value_counts()\n"
   ],
   "metadata": {
    "collapsed": false
   }
  },
  {
   "cell_type": "markdown",
   "source": [
    "Everything looks good here, i.a. no outliers, misspellings, NaN-values etc., so we can move on to the next column.\n",
    "Duplicates are not a problem here as each date can occur multiple times as there are multiple customers/transactions."
   ],
   "metadata": {
    "collapsed": false
   }
  },
  {
   "cell_type": "markdown",
   "source": [
    "### **<span style=\"color:purple\">Transactions: \"subscription_type\"</span>**"
   ],
   "metadata": {
    "collapsed": false
   }
  },
  {
   "cell_type": "code",
   "execution_count": 485,
   "outputs": [
    {
     "data": {
      "text/plain": "BASIC    7058\nPRO      6452\nMAX      5469\nmax        83\npro        79\nName: subscription_type, dtype: int64"
     },
     "execution_count": 485,
     "metadata": {},
     "output_type": "execute_result"
    }
   ],
   "source": [
    "df_transactions.subscription_type.value_counts()"
   ],
   "metadata": {
    "collapsed": false
   }
  },
  {
   "cell_type": "code",
   "execution_count": 486,
   "outputs": [],
   "source": [
    "# Convert all values to uppercase\n",
    "df_transactions.subscription_type = df_transactions.subscription_type.str.upper()"
   ],
   "metadata": {
    "collapsed": false
   }
  },
  {
   "cell_type": "markdown",
   "source": [
    "Everything looks good here, i.a. no outliers, misspellings, NaN-values etc., so we can move on to the next dataset."
   ],
   "metadata": {
    "collapsed": false
   }
  },
  {
   "cell_type": "markdown",
   "source": [
    "## **<span style=\"color:purple\">DATASET 3: *referral*</span>**"
   ],
   "metadata": {
    "collapsed": false
   }
  },
  {
   "cell_type": "code",
   "execution_count": 487,
   "outputs": [
    {
     "name": "stdout",
     "output_type": "stream",
     "text": [
      "<class 'pandas.core.frame.DataFrame'>\n",
      "RangeIndex: 19141 entries, 0 to 19140\n",
      "Data columns (total 2 columns):\n",
      " #   Column         Non-Null Count  Dtype \n",
      "---  ------         --------------  ----- \n",
      " 0   id             19141 non-null  object\n",
      " 1   referral_type  10996 non-null  object\n",
      "dtypes: object(2)\n",
      "memory usage: 299.2+ KB\n",
      "None\n"
     ]
    },
    {
     "data": {
      "text/plain": "           id referral_type\ncount   19141         10996\nunique  10366             7\ntop      2184      facebook\nfreq        6          3023",
      "text/html": "<div>\n<style scoped>\n    .dataframe tbody tr th:only-of-type {\n        vertical-align: middle;\n    }\n\n    .dataframe tbody tr th {\n        vertical-align: top;\n    }\n\n    .dataframe thead th {\n        text-align: right;\n    }\n</style>\n<table border=\"1\" class=\"dataframe\">\n  <thead>\n    <tr style=\"text-align: right;\">\n      <th></th>\n      <th>id</th>\n      <th>referral_type</th>\n    </tr>\n  </thead>\n  <tbody>\n    <tr>\n      <th>count</th>\n      <td>19141</td>\n      <td>10996</td>\n    </tr>\n    <tr>\n      <th>unique</th>\n      <td>10366</td>\n      <td>7</td>\n    </tr>\n    <tr>\n      <th>top</th>\n      <td>2184</td>\n      <td>facebook</td>\n    </tr>\n    <tr>\n      <th>freq</th>\n      <td>6</td>\n      <td>3023</td>\n    </tr>\n  </tbody>\n</table>\n</div>"
     },
     "execution_count": 487,
     "metadata": {},
     "output_type": "execute_result"
    }
   ],
   "source": [
    "# Number of features\n",
    "print(df_referral.info())\n",
    "# Number of unique values for each feature\n",
    "df_referral.describe(include='all')"
   ],
   "metadata": {
    "collapsed": false
   }
  },
  {
   "cell_type": "code",
   "execution_count": 488,
   "outputs": [
    {
     "data": {
      "text/plain": "   id referral_type\n0   1           NaN\n1   2           NaN\n2   3      facebook\n3   4       Display\n4   5           NaN\n5   6      facebook\n6   7      facebook\n7   8      facebook\n8   9      facebook\n9  10           NaN",
      "text/html": "<div>\n<style scoped>\n    .dataframe tbody tr th:only-of-type {\n        vertical-align: middle;\n    }\n\n    .dataframe tbody tr th {\n        vertical-align: top;\n    }\n\n    .dataframe thead th {\n        text-align: right;\n    }\n</style>\n<table border=\"1\" class=\"dataframe\">\n  <thead>\n    <tr style=\"text-align: right;\">\n      <th></th>\n      <th>id</th>\n      <th>referral_type</th>\n    </tr>\n  </thead>\n  <tbody>\n    <tr>\n      <th>0</th>\n      <td>1</td>\n      <td>NaN</td>\n    </tr>\n    <tr>\n      <th>1</th>\n      <td>2</td>\n      <td>NaN</td>\n    </tr>\n    <tr>\n      <th>2</th>\n      <td>3</td>\n      <td>facebook</td>\n    </tr>\n    <tr>\n      <th>3</th>\n      <td>4</td>\n      <td>Display</td>\n    </tr>\n    <tr>\n      <th>4</th>\n      <td>5</td>\n      <td>NaN</td>\n    </tr>\n    <tr>\n      <th>5</th>\n      <td>6</td>\n      <td>facebook</td>\n    </tr>\n    <tr>\n      <th>6</th>\n      <td>7</td>\n      <td>facebook</td>\n    </tr>\n    <tr>\n      <th>7</th>\n      <td>8</td>\n      <td>facebook</td>\n    </tr>\n    <tr>\n      <th>8</th>\n      <td>9</td>\n      <td>facebook</td>\n    </tr>\n    <tr>\n      <th>9</th>\n      <td>10</td>\n      <td>NaN</td>\n    </tr>\n  </tbody>\n</table>\n</div>"
     },
     "execution_count": 488,
     "metadata": {},
     "output_type": "execute_result"
    }
   ],
   "source": [
    "# Preview the first 10 rows of the dataframe\n",
    "df_referral.head(10)"
   ],
   "metadata": {
    "collapsed": false
   }
  },
  {
   "cell_type": "code",
   "execution_count": 489,
   "outputs": [
    {
     "data": {
      "text/plain": "id                  0\nreferral_type    8145\ndtype: int64"
     },
     "execution_count": 489,
     "metadata": {},
     "output_type": "execute_result"
    }
   ],
   "source": [
    "# Number of nan-values for each feature\n",
    "df_referral.isna().sum()"
   ],
   "metadata": {
    "collapsed": false
   }
  },
  {
   "cell_type": "markdown",
   "source": [
    "### **<span style=\"color:purple\">Referral: \"id\"</span>**\n",
    "Some values in the \"id\" column contain \"_ref\" at the end, which is not consistent with the other values in the column. Let's remove these redundant \"_ref\".\n"
   ],
   "metadata": {
    "collapsed": false
   }
  },
  {
   "cell_type": "code",
   "execution_count": 490,
   "outputs": [],
   "source": [
    "# Rename the column to \"cust_id\" to avoid confusion\n",
    "df_referral = df_referral.rename(columns={'id': 'cust_id'})"
   ],
   "metadata": {
    "collapsed": false
   }
  },
  {
   "cell_type": "code",
   "execution_count": 491,
   "outputs": [],
   "source": [
    "# Remove \"_ref\" from the values in the \"id\" column\n",
    "df_referral['cust_id'] = df_referral['cust_id'].str.replace('_ref', '')"
   ],
   "metadata": {
    "collapsed": false
   }
  },
  {
   "cell_type": "markdown",
   "source": [
    "We have in total 19 141 datapoints in the \"referral\" dataset.\n",
    "It is not clear what the \"id\" column represents, but let's assume that it corresponds to the customer ID in the other two datasets. Let's check if there are any duplicates in the \"id\" column."
   ],
   "metadata": {
    "collapsed": false
   }
  },
  {
   "cell_type": "code",
   "execution_count": 492,
   "outputs": [
    {
     "name": "stdout",
     "output_type": "stream",
     "text": [
      "Are there any duplicates in the \"cust_id\" column? Answer: True\n"
     ]
    }
   ],
   "source": [
    "print('Are there any duplicates in the \"cust_id\" column? Answer:', df_referral['cust_id'].duplicated().any())"
   ],
   "metadata": {
    "collapsed": false
   }
  },
  {
   "cell_type": "markdown",
   "source": [
    "It is clear that there are duplicates in the \"id\" column but does this mean that there are duplicates of the full rows as well? Let's check by dropping all duplicates and see if the new number of rows matches the number of unique values in the \"id\" column (10366)."
   ],
   "metadata": {
    "collapsed": false
   }
  },
  {
   "cell_type": "code",
   "execution_count": 493,
   "outputs": [
    {
     "name": "stdout",
     "output_type": "stream",
     "text": [
      "<class 'pandas.core.frame.DataFrame'>\n",
      "Int64Index: 10366 entries, 0 to 10365\n",
      "Data columns (total 2 columns):\n",
      " #   Column         Non-Null Count  Dtype \n",
      "---  ------         --------------  ----- \n",
      " 0   cust_id        10366 non-null  object\n",
      " 1   referral_type  5968 non-null   object\n",
      "dtypes: object(2)\n",
      "memory usage: 243.0+ KB\n",
      "None\n"
     ]
    }
   ],
   "source": [
    "df_referral = df_referral.drop_duplicates()\n",
    "print(df_referral.info())"
   ],
   "metadata": {
    "collapsed": false
   }
  },
  {
   "cell_type": "markdown",
   "source": [
    "### **<span style=\"color:purple\">Referral: \"referral_type\"</span>**\n"
   ],
   "metadata": {
    "collapsed": false
   }
  },
  {
   "cell_type": "code",
   "execution_count": 494,
   "outputs": [
    {
     "name": "stdout",
     "output_type": "stream",
     "text": [
      "Number of NaN-values 4398\n"
     ]
    },
    {
     "data": {
      "text/plain": "facebook          1689\nOrganic Search    1248\nPaid Search       1058\nGoogle Ads        1033\nTV                 388\nDisplay            340\nBing               212\nName: referral_type, dtype: int64"
     },
     "execution_count": 494,
     "metadata": {},
     "output_type": "execute_result"
    }
   ],
   "source": [
    "# List nan-values for the column\n",
    "# print(df_referral[df_referral['referral_type'].isna()])\n",
    "print('Number of NaN-values', df_referral['referral_type'].isna().sum())\n",
    "\n",
    "# List all unique values for the column\n",
    "df_referral.referral_type.value_counts()"
   ],
   "metadata": {
    "collapsed": false
   }
  },
  {
   "cell_type": "markdown",
   "source": [
    "There are a noteworthy amount of NaN-values in the \"referral_type\" column which I would ask the client about as it is not clear if these are simply missing values or if they represent the customer not being referred to the service."
   ],
   "metadata": {
    "collapsed": false
   }
  },
  {
   "cell_type": "markdown",
   "source": [
    "*Merge processed datasets into one csv-file*"
   ],
   "metadata": {
    "collapsed": false
   }
  },
  {
   "cell_type": "markdown",
   "source": [
    "### **<span style=\"color:purple\">MERGE DATASETS</span>**"
   ],
   "metadata": {
    "collapsed": false
   }
  },
  {
   "cell_type": "code",
   "execution_count": 495,
   "outputs": [
    {
     "data": {
      "text/plain": "  cust_id customer_gender age_group customer_country referral_type\n0       1            Male     35-44          Denmark           NaN\n1       2           Other     18-24          Denmark           NaN\n2       3           Other     25-34           Norway      facebook\n3       4            Male     18-24           Sweden       Display\n4       5           Other     35-44           Sweden           NaN",
      "text/html": "<div>\n<style scoped>\n    .dataframe tbody tr th:only-of-type {\n        vertical-align: middle;\n    }\n\n    .dataframe tbody tr th {\n        vertical-align: top;\n    }\n\n    .dataframe thead th {\n        text-align: right;\n    }\n</style>\n<table border=\"1\" class=\"dataframe\">\n  <thead>\n    <tr style=\"text-align: right;\">\n      <th></th>\n      <th>cust_id</th>\n      <th>customer_gender</th>\n      <th>age_group</th>\n      <th>customer_country</th>\n      <th>referral_type</th>\n    </tr>\n  </thead>\n  <tbody>\n    <tr>\n      <th>0</th>\n      <td>1</td>\n      <td>Male</td>\n      <td>35-44</td>\n      <td>Denmark</td>\n      <td>NaN</td>\n    </tr>\n    <tr>\n      <th>1</th>\n      <td>2</td>\n      <td>Other</td>\n      <td>18-24</td>\n      <td>Denmark</td>\n      <td>NaN</td>\n    </tr>\n    <tr>\n      <th>2</th>\n      <td>3</td>\n      <td>Other</td>\n      <td>25-34</td>\n      <td>Norway</td>\n      <td>facebook</td>\n    </tr>\n    <tr>\n      <th>3</th>\n      <td>4</td>\n      <td>Male</td>\n      <td>18-24</td>\n      <td>Sweden</td>\n      <td>Display</td>\n    </tr>\n    <tr>\n      <th>4</th>\n      <td>5</td>\n      <td>Other</td>\n      <td>35-44</td>\n      <td>Sweden</td>\n      <td>NaN</td>\n    </tr>\n  </tbody>\n</table>\n</div>"
     },
     "execution_count": 495,
     "metadata": {},
     "output_type": "execute_result"
    }
   ],
   "source": [
    "# Merge the demographics and referral datasets on the \"id\" column\n",
    "df_complete = pd.merge(df_demographics, df_referral, on='cust_id', how='left')\n",
    "# Preview the first 5 rows of the dataframe\n",
    "df_complete.head()"
   ],
   "metadata": {
    "collapsed": false
   }
  },
  {
   "cell_type": "code",
   "execution_count": 496,
   "outputs": [
    {
     "name": "stdout",
     "output_type": "stream",
     "text": [
      "<class 'pandas.core.frame.DataFrame'>\n",
      "Int64Index: 10366 entries, 0 to 10365\n",
      "Data columns (total 5 columns):\n",
      " #   Column            Non-Null Count  Dtype \n",
      "---  ------            --------------  ----- \n",
      " 0   cust_id           10366 non-null  object\n",
      " 1   customer_gender   10366 non-null  object\n",
      " 2   age_group         10366 non-null  object\n",
      " 3   customer_country  10366 non-null  object\n",
      " 4   referral_type     5968 non-null   object\n",
      "dtypes: object(5)\n",
      "memory usage: 485.9+ KB\n"
     ]
    }
   ],
   "source": [
    "df_complete.info()"
   ],
   "metadata": {
    "collapsed": false
   }
  },
  {
   "cell_type": "code",
   "execution_count": 497,
   "outputs": [],
   "source": [
    "# Assign correct types to the columns\n",
    "df_complete['cust_id'] = df_complete['cust_id'].astype('int64')"
   ],
   "metadata": {
    "collapsed": false
   }
  },
  {
   "cell_type": "code",
   "execution_count": 498,
   "outputs": [
    {
     "data": {
      "text/plain": "   cust_id customer_gender age_group customer_country referral_type  \\\n0        1            Male     35-44          Denmark           NaN   \n1        2           Other     18-24          Denmark           NaN   \n2        3           Other     25-34           Norway      facebook   \n3        3           Other     25-34           Norway      facebook   \n4        4            Male     18-24           Sweden       Display   \n\n  transaction_type transaction_date subscription_type  \n0          INITIAL       2020-09-01             BASIC  \n1          INITIAL       2022-03-01             BASIC  \n2          INITIAL       2020-10-01               MAX  \n3        REDUCTION       2022-02-01             BASIC  \n4          INITIAL       2022-05-01               PRO  ",
      "text/html": "<div>\n<style scoped>\n    .dataframe tbody tr th:only-of-type {\n        vertical-align: middle;\n    }\n\n    .dataframe tbody tr th {\n        vertical-align: top;\n    }\n\n    .dataframe thead th {\n        text-align: right;\n    }\n</style>\n<table border=\"1\" class=\"dataframe\">\n  <thead>\n    <tr style=\"text-align: right;\">\n      <th></th>\n      <th>cust_id</th>\n      <th>customer_gender</th>\n      <th>age_group</th>\n      <th>customer_country</th>\n      <th>referral_type</th>\n      <th>transaction_type</th>\n      <th>transaction_date</th>\n      <th>subscription_type</th>\n    </tr>\n  </thead>\n  <tbody>\n    <tr>\n      <th>0</th>\n      <td>1</td>\n      <td>Male</td>\n      <td>35-44</td>\n      <td>Denmark</td>\n      <td>NaN</td>\n      <td>INITIAL</td>\n      <td>2020-09-01</td>\n      <td>BASIC</td>\n    </tr>\n    <tr>\n      <th>1</th>\n      <td>2</td>\n      <td>Other</td>\n      <td>18-24</td>\n      <td>Denmark</td>\n      <td>NaN</td>\n      <td>INITIAL</td>\n      <td>2022-03-01</td>\n      <td>BASIC</td>\n    </tr>\n    <tr>\n      <th>2</th>\n      <td>3</td>\n      <td>Other</td>\n      <td>25-34</td>\n      <td>Norway</td>\n      <td>facebook</td>\n      <td>INITIAL</td>\n      <td>2020-10-01</td>\n      <td>MAX</td>\n    </tr>\n    <tr>\n      <th>3</th>\n      <td>3</td>\n      <td>Other</td>\n      <td>25-34</td>\n      <td>Norway</td>\n      <td>facebook</td>\n      <td>REDUCTION</td>\n      <td>2022-02-01</td>\n      <td>BASIC</td>\n    </tr>\n    <tr>\n      <th>4</th>\n      <td>4</td>\n      <td>Male</td>\n      <td>18-24</td>\n      <td>Sweden</td>\n      <td>Display</td>\n      <td>INITIAL</td>\n      <td>2022-05-01</td>\n      <td>PRO</td>\n    </tr>\n  </tbody>\n</table>\n</div>"
     },
     "execution_count": 498,
     "metadata": {},
     "output_type": "execute_result"
    }
   ],
   "source": [
    "# Merge the complete dataset with the transactions dataset on the \"cust_id\" column\n",
    "df_complete = pd.merge(df_complete, df_transactions, on='cust_id', how='left')\n",
    "# Preview the first 5 rows of the dataframe\n",
    "df_complete.head()"
   ],
   "metadata": {
    "collapsed": false
   }
  },
  {
   "cell_type": "code",
   "execution_count": 499,
   "outputs": [],
   "source": [
    "# Add another column with the year of the transaction\n",
    "df_complete['transaction_date'] =  pd.to_datetime(df_complete['transaction_date'])\n",
    "df_complete['transaction_year'] = df_complete['transaction_date'].dt.year"
   ],
   "metadata": {
    "collapsed": false
   }
  },
  {
   "cell_type": "code",
   "execution_count": 500,
   "outputs": [
    {
     "name": "stdout",
     "output_type": "stream",
     "text": [
      "<class 'pandas.core.frame.DataFrame'>\n",
      "Int64Index: 19141 entries, 0 to 19140\n",
      "Data columns (total 9 columns):\n",
      " #   Column             Non-Null Count  Dtype         \n",
      "---  ------             --------------  -----         \n",
      " 0   cust_id            19141 non-null  int64         \n",
      " 1   customer_gender    19141 non-null  object        \n",
      " 2   age_group          19141 non-null  object        \n",
      " 3   customer_country   19141 non-null  object        \n",
      " 4   referral_type      10996 non-null  object        \n",
      " 5   transaction_type   19141 non-null  object        \n",
      " 6   transaction_date   19141 non-null  datetime64[ns]\n",
      " 7   subscription_type  19141 non-null  object        \n",
      " 8   transaction_year   19141 non-null  int64         \n",
      "dtypes: datetime64[ns](1), int64(2), object(6)\n",
      "memory usage: 1.5+ MB\n"
     ]
    }
   ],
   "source": [
    "df_complete.info()"
   ],
   "metadata": {
    "collapsed": false
   }
  },
  {
   "cell_type": "code",
   "execution_count": 501,
   "outputs": [],
   "source": [
    "def get_subscription_price(subscription_type, transaction_year):\n",
    "    # Get the price for the subscription type at the time of the transaction\n",
    "    str_subscription_type = str(subscription_type)\n",
    "    str_transaction_year = str(transaction_year)\n",
    "    price = df_subscription_prices.at[str_transaction_year, str_subscription_type]\n",
    "    return price\n",
    "\n",
    "for index, row in df_complete.iterrows():\n",
    "    # Get the price for the subscription type at the time of the transaction\n",
    "    price = get_subscription_price(row['subscription_type'], row['transaction_year'])\n",
    "    # Set the price for the subscription type at the time of the transaction\n",
    "    df_complete.loc[index, 'subscription_price'] = price\n"
   ],
   "metadata": {
    "collapsed": false
   }
  },
  {
   "cell_type": "code",
   "execution_count": 502,
   "outputs": [],
   "source": [
    "# Save the complete dataset to a csv-file\n",
    "df_complete.to_csv('complete_dataset-FINAL.csv', index=False)"
   ],
   "metadata": {
    "collapsed": false
   }
  },
  {
   "cell_type": "code",
   "execution_count": 502,
   "outputs": [],
   "source": [],
   "metadata": {
    "collapsed": false
   }
  },
  {
   "cell_type": "markdown",
   "source": [],
   "metadata": {
    "collapsed": false
   }
  }
 ],
 "metadata": {
  "kernelspec": {
   "display_name": "Python 3",
   "language": "python",
   "name": "python3"
  },
  "language_info": {
   "codemirror_mode": {
    "name": "ipython",
    "version": 2
   },
   "file_extension": ".py",
   "mimetype": "text/x-python",
   "name": "python",
   "nbconvert_exporter": "python",
   "pygments_lexer": "ipython2",
   "version": "2.7.6"
  }
 },
 "nbformat": 4,
 "nbformat_minor": 0
}
